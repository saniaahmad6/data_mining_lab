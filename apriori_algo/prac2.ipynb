{
 "cells": [
  {
   "cell_type": "code",
   "execution_count": 1,
   "id": "64c8b6f7-f39e-42a2-a2d4-c2bd09168be9",
   "metadata": {},
   "outputs": [],
   "source": [
    "from itertools import combinations\n",
    "import pprint"
   ]
  },
  {
   "cell_type": "code",
   "execution_count": 28,
   "id": "012736b6-9d7f-4e44-837b-5d80849f7bae",
   "metadata": {},
   "outputs": [],
   "source": [
    "def get_itemsets(transactions,k):\n",
    "    itemsets = set()\n",
    "    for t in transactions:\n",
    "        for c in combinations(t,k):\n",
    "            itemsets.add(frozenset(c))\n",
    "    return itemsets"
   ]
  },
  {
   "cell_type": "code",
   "execution_count": 29,
   "id": "18d19dd7-a6d7-433c-a112-9dd3c2b9cc64",
   "metadata": {},
   "outputs": [],
   "source": [
    "def get_freq_item(transactions,minsupport,itemsets):\n",
    "    itemset_count = {i : 0 for i in itemsets}\n",
    "    for t in transactions:\n",
    "        for i in itemsets:\n",
    "            if i.issubset(t):\n",
    "                itemset_count[i]+=1\n",
    "    \n",
    "    freq_itemsets = {i:c for i,c in itemset_count.items() if c>=minsupport}\n",
    "    return freq_itemsets, itemset_count"
   ]
  },
  {
   "cell_type": "code",
   "execution_count": 35,
   "id": "e70514df-530e-46df-a567-45fdeffc8df7",
   "metadata": {},
   "outputs": [],
   "source": [
    "def get_comb(freq_itemsets,k):\n",
    "    itemsets = set()\n",
    "    freq_itemsets = list(freq_itemsets)\n",
    "    for i in range(len(freq_itemsets)):\n",
    "        for j in range(i+1,len(freq_itemsets)):\n",
    "            union = freq_itemsets[i] | freq_itemsets[j]\n",
    "            if len(union)==k:\n",
    "                itemsets.add(union)\n",
    "    return itemsets\n",
    "                "
   ]
  },
  {
   "cell_type": "code",
   "execution_count": 36,
   "id": "5a07f163-3204-41c4-98f0-0d71a3369dfa",
   "metadata": {},
   "outputs": [],
   "source": [
    "def getAR(itemsets, minConf):\n",
    "    rules = []\n",
    "    for item, count in itemsets.items():\n",
    "        for size in range(1,len(item)):\n",
    "                for rhs in combinations(item,size):\n",
    "                    lhs = item - frozenset(rhs)\n",
    "                    c = itemsets[lhs]\n",
    "                    conf = c / count\n",
    "                    if conf >=minConf:\n",
    "                        rules.append((lhs,frozenset(rhs),conf))\n",
    "\n",
    "    return rules"
   ]
  },
  {
   "cell_type": "code",
   "execution_count": 37,
   "id": "2f751720-cf89-4310-bf5d-2be187c29e68",
   "metadata": {},
   "outputs": [],
   "source": [
    "def print_table(itemset_counts, min_support, k):\n",
    "    print(f\"for {k} level: \")\n",
    "    for item, count in itemset_counts.items():\n",
    "        print(f\" {str(set(item))}   {count}  {'✓' if count >= min_support else '✗'}\")\n",
    "\n",
    "    print()"
   ]
  },
  {
   "cell_type": "code",
   "execution_count": 44,
   "id": "24ff8f43-eead-4889-bdd4-53109bdd2723",
   "metadata": {},
   "outputs": [],
   "source": [
    "def apriori(transactions,minsupport):\n",
    "    transactions = [frozenset(t) for t in transactions]\n",
    "    itemsets = get_itemsets(transactions,1)\n",
    "    freq_itemsets, itemset_count = get_freq_item(transactions,minsupport,itemsets)\n",
    "    \n",
    "    k=1\n",
    "    print_table(freq_itemsets,minsupport,k)\n",
    "\n",
    "    all_f = dict(freq_itemsets)\n",
    "    k=2\n",
    "    while freq_itemsets:\n",
    "        itemsets = get_comb(freq_itemsets.keys(),k)\n",
    "        freq_itemsets, itemset_count = get_freq_item(transactions,minsupport,itemsets)\n",
    "\n",
    "        if freq_itemsets:\n",
    "            print_table(freq_itemsets,minsupport,k)\n",
    "    \n",
    "        all_f.update(freq_itemsets)\n",
    "        k+=1\n",
    "    return all_f\n"
   ]
  },
  {
   "cell_type": "code",
   "execution_count": 45,
   "id": "3ae8e256-7f3f-4546-9b6c-c791f33a74a8",
   "metadata": {},
   "outputs": [
    {
     "name": "stdout",
     "output_type": "stream",
     "text": [
      "for 1 level: \n",
      " {'butter'}   4  ✓\n",
      " {'bread'}   4  ✓\n",
      " {'milk'}   3  ✓\n",
      "\n",
      "for 2 level: \n",
      " {'milk', 'bread'}   2  ✓\n",
      " {'bread', 'butter'}   3  ✓\n",
      " {'milk', 'butter'}   2  ✓\n",
      "\n",
      "Final Frequent Itemsets:\n",
      "{frozenset({'butter'}): 4,\n",
      " frozenset({'bread'}): 4,\n",
      " frozenset({'milk'}): 3,\n",
      " frozenset({'milk', 'bread'}): 2,\n",
      " frozenset({'bread', 'butter'}): 3,\n",
      " frozenset({'milk', 'butter'}): 2}\n"
     ]
    }
   ],
   "source": [
    "transactions = [\n",
    "    ['milk', 'bread', 'butter'],\n",
    "    ['bread', 'butter'],\n",
    "    ['milk', 'bread'],\n",
    "    ['milk', 'butter'],\n",
    "    ['bread', 'butter'],\n",
    "]\n",
    "\n",
    "min_support = 2\n",
    "frequent_itemsets = apriori(transactions, min_support)\n",
    "print(\"Final Frequent Itemsets:\")\n",
    "pprint.pprint(frequent_itemsets)"
   ]
  },
  {
   "cell_type": "code",
   "execution_count": null,
   "id": "60b20114-54e8-49d0-94cc-129ad99739b2",
   "metadata": {},
   "outputs": [],
   "source": [
    "min_confidence = 0.6\n",
    "association_rules = get_ar(frequent_itemsets, min_confidence)\n",
    "print_ar(association_rules)"
   ]
  },
  {
   "cell_type": "code",
   "execution_count": null,
   "id": "0d813e8f-c13f-46ed-a6f8-97eeaa4a0768",
   "metadata": {},
   "outputs": [],
   "source": []
  },
  {
   "cell_type": "code",
   "execution_count": null,
   "id": "4838a304-b8b4-459c-81f2-9672146b4e25",
   "metadata": {},
   "outputs": [],
   "source": []
  },
  {
   "cell_type": "code",
   "execution_count": null,
   "id": "38b87e43-0ef1-4248-8079-6d7c916de2ea",
   "metadata": {},
   "outputs": [],
   "source": []
  }
 ],
 "metadata": {
  "kernelspec": {
   "display_name": "Python 3 (ipykernel)",
   "language": "python",
   "name": "python3"
  },
  "language_info": {
   "codemirror_mode": {
    "name": "ipython",
    "version": 3
   },
   "file_extension": ".py",
   "mimetype": "text/x-python",
   "name": "python",
   "nbconvert_exporter": "python",
   "pygments_lexer": "ipython3",
   "version": "3.12.4"
  }
 },
 "nbformat": 4,
 "nbformat_minor": 5
}
