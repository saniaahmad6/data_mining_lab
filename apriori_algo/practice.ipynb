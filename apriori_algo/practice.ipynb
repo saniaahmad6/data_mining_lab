{
 "cells": [
  {
   "cell_type": "code",
   "execution_count": 15,
   "id": "688684ae-5c93-41d1-beaf-2fbf05149d61",
   "metadata": {},
   "outputs": [],
   "source": [
    "from itertools import combinations\n",
    "import pprint"
   ]
  },
  {
   "cell_type": "code",
   "execution_count": 7,
   "id": "c15f8bad-55e9-445b-b6e7-215311b253ed",
   "metadata": {},
   "outputs": [],
   "source": [
    "def get_itemsets(transactions, itemset_size): # form cominations of size k\n",
    "    itemsets = set()\n",
    "    for transaction in transactions:\n",
    "        for combination in combinations(transaction, itemset_size):\n",
    "            itemsets.add(frozenset(combination))\n",
    "    return itemsets"
   ]
  },
  {
   "cell_type": "code",
   "execution_count": 8,
   "id": "c3a90e31-1193-4f1c-adb6-8054d6ce7a34",
   "metadata": {},
   "outputs": [],
   "source": [
    "def get_frequent_itemsets(transactions, itemsets, min_support): # n square\n",
    "    itemset_counts = {itemset: 0 for itemset in itemsets} \n",
    "    for transaction in transactions:\n",
    "        for itemset in itemsets:\n",
    "            if itemset.issubset(transaction):\n",
    "                itemset_counts[itemset] += 1\n",
    "\n",
    "    frequent_itemsets = {itemset: count for itemset, count in itemset_counts.items() if count >= min_support}\n",
    "    return frequent_itemsets, itemset_counts"
   ]
  },
  {
   "cell_type": "code",
   "execution_count": 10,
   "id": "95858961-9ad8-4587-a696-bd9a4feb497d",
   "metadata": {},
   "outputs": [],
   "source": [
    "def print_table(itemset_counts, min_support):\n",
    "    for item, count in itemset_counts.items():\n",
    "        print(f\" {str(set(item))}   {count}  {'✓' if count >= min_support else '✗'}\")\n",
    "\n",
    "    print()"
   ]
  },
  {
   "cell_type": "code",
   "execution_count": 12,
   "id": "7c114f0c-7133-452a-8b55-82ac6957a6ab",
   "metadata": {},
   "outputs": [],
   "source": [
    "def generate_new_combinations(frequent_itemsets, k): # new itemsets\n",
    "    itemsets = set()\n",
    "    frequent_items = list(frequent_itemsets)\n",
    "\n",
    "    for i in range(len(frequent_items)):\n",
    "        for j in range(i + 1, len(frequent_items)):\n",
    "            union_set = frequent_items[i] | frequent_items[j]\n",
    "            if len(union_set) == k: \n",
    "                itemsets.add(union_set)\n",
    "\n",
    "    return itemsets"
   ]
  },
  {
   "cell_type": "code",
   "execution_count": null,
   "id": "8e7fa860-3544-484b-90db-692e179e6411",
   "metadata": {},
   "outputs": [],
   "source": [
    "def apriori(transactions,min_support):\n",
    "    transactions = [frozenset(t) for t in transactions]\n",
    "    itemsets = get_itemsets(transactions,1)\n",
    "    frequent_itemsets, itemset_counts = get_frequent_itemsets(transactions, itemsets, min_support)\n",
    "\n",
    "    print(f\"Step 1: Frequent 1-itemsets\")\n",
    "    print_table(itemset_counts, min_support)\n",
    "    \n",
    "    all_frequent_itemsets = dict(frequent_itemsets)\n",
    "    \n",
    "    k = 2\n",
    "    while frequent_itemsets:\n",
    "        itemsets = generate_new_combinations(frequent_itemsets.keys(), k)\n",
    "        frequent_itemsets, itemset_counts = get_frequent_itemsets(transactions, itemsets, min_support)\n",
    "\n",
    "        if frequent_itemsets:\n",
    "            print(f\"Step {k}: Frequent {k}-itemsets\")\n",
    "            print_table(itemset_counts, min_support)\n",
    "\n",
    "        all_frequent_itemsets.update(frequent_itemsets)\n",
    "        k += 1\n",
    "\n",
    "    return all_frequent_itemsets\n",
    "    "
   ]
  },
  {
   "cell_type": "code",
   "execution_count": 16,
   "id": "c3448871-3390-42a9-8a14-2de7e2143a2c",
   "metadata": {},
   "outputs": [
    {
     "name": "stdout",
     "output_type": "stream",
     "text": [
      "Step 1: Frequent 1-itemsets\n",
      " {'butter'}   4  ✓\n",
      " {'milk'}   3  ✓\n",
      " {'bread'}   4  ✓\n",
      "\n",
      "Step 2: Frequent 2-itemsets\n",
      " {'butter', 'bread'}   3  ✓\n",
      " {'milk', 'butter'}   2  ✓\n",
      " {'milk', 'bread'}   2  ✓\n",
      "\n",
      "Final Frequent Itemsets:\n",
      "{frozenset({'butter'}): 4,\n",
      " frozenset({'milk'}): 3,\n",
      " frozenset({'bread'}): 4,\n",
      " frozenset({'butter', 'bread'}): 3,\n",
      " frozenset({'milk', 'butter'}): 2,\n",
      " frozenset({'milk', 'bread'}): 2}\n"
     ]
    }
   ],
   "source": [
    "# Example\n",
    "transactions = [\n",
    "    ['milk', 'bread', 'butter'],\n",
    "    ['bread', 'butter'],\n",
    "    ['milk', 'bread'],\n",
    "    ['milk', 'butter'],\n",
    "    ['bread', 'butter'],\n",
    "]\n",
    "\n",
    "min_support = 2\n",
    "frequent_itemsets = apriori(transactions, min_support)\n",
    "print(\"Final Frequent Itemsets:\")\n",
    "pprint.pprint(frequent_itemsets)"
   ]
  },
  {
   "cell_type": "markdown",
   "id": "67f761a9-70c9-4122-9a81-730bcd288919",
   "metadata": {},
   "source": [
    "#### Get association rules"
   ]
  },
  {
   "cell_type": "code",
   "execution_count": 25,
   "id": "e9dacdc1-8509-4d44-8208-99956f91ead8",
   "metadata": {},
   "outputs": [],
   "source": [
    "# LHS -> RHS\n",
    "def get_ar(frequent_itemsets,min_confidence):\n",
    "    rules = []\n",
    "    for item, count in frequent_itemsets.items():\n",
    "        if len(item) > 1: \n",
    "            for size in range(1,len(item)):\n",
    "                for rhs in combinations(item,size):\n",
    "                    lhs = item - frozenset(rhs)\n",
    "                    if lhs:\n",
    "                        lhs_support = frequent_itemsets[lhs]\n",
    "                        confidence = count / lhs_support\n",
    "\n",
    "                        if confidence >=min_confidence: \n",
    "                            rules.append((lhs, frozenset(rhs), confidence))\n",
    "                    \n",
    "\n",
    "    return rules"
   ]
  },
  {
   "cell_type": "code",
   "execution_count": 27,
   "id": "fe283cff-b7e2-4544-833e-67179189c448",
   "metadata": {},
   "outputs": [],
   "source": [
    "def print_ar(rules):\n",
    "    for lhs, rhs, confidence in rules:\n",
    "        print(f\"{str(set(lhs))} -> {str(set(rhs)):<20} {confidence:<10.2f}\")\n",
    "    print()"
   ]
  },
  {
   "cell_type": "code",
   "execution_count": 28,
   "id": "a3bef6ba-99cb-4fc2-8d88-28b5224ac60b",
   "metadata": {},
   "outputs": [
    {
     "name": "stdout",
     "output_type": "stream",
     "text": [
      "{'bread'} -> {'butter'}           0.75      \n",
      "{'butter'} -> {'bread'}            0.75      \n",
      "{'milk'} -> {'butter'}           0.67      \n",
      "{'milk'} -> {'bread'}            0.67      \n",
      "\n"
     ]
    }
   ],
   "source": [
    "min_confidence = 0.6\n",
    "association_rules = get_ar(frequent_itemsets, min_confidence)\n",
    "print_ar(association_rules)"
   ]
  }
 ],
 "metadata": {
  "kernelspec": {
   "display_name": "Python 3 (ipykernel)",
   "language": "python",
   "name": "python3"
  },
  "language_info": {
   "codemirror_mode": {
    "name": "ipython",
    "version": 3
   },
   "file_extension": ".py",
   "mimetype": "text/x-python",
   "name": "python",
   "nbconvert_exporter": "python",
   "pygments_lexer": "ipython3",
   "version": "3.12.4"
  }
 },
 "nbformat": 4,
 "nbformat_minor": 5
}
