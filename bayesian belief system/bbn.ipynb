{
 "cells": [
  {
   "cell_type": "code",
   "execution_count": 1,
   "id": "8911e322-6ca2-49f6-a52b-b1a74608d1ce",
   "metadata": {},
   "outputs": [
    {
     "name": "stdout",
     "output_type": "stream",
     "text": [
      "P(Cold=True | Fever=True, Cough=True, Fatigue=False) = 0.8\n"
     ]
    }
   ],
   "source": [
    "# Define the Bayesian Network structure and conditional probabilities\n",
    "\n",
    "class BayesianNetwork:\n",
    "    def __init__(self):\n",
    "        # Define the nodes in the network\n",
    "        self.nodes = {}\n",
    "\n",
    "    def add_node(self, node_name, parents, cpt):\n",
    "        # Add a node with its parents and conditional probability table (CPT)\n",
    "        self.nodes[node_name] = {\n",
    "            'parents': parents,\n",
    "            'cpt': cpt\n",
    "        }\n",
    "\n",
    "    def get_probability(self, node, value, evidence):\n",
    "        # Calculate the probability of the node given the evidence\n",
    "        node_info = self.nodes[node]\n",
    "        parent_values = tuple(evidence[parent] for parent in node_info['parents'])\n",
    "        prob_true = node_info['cpt'][parent_values]\n",
    "        return prob_true if value else 1 - prob_true\n",
    "\n",
    "    def compute_joint_probability(self, evidence):\n",
    "        # Calculate the joint probability of the given evidence\n",
    "        joint_prob = 1.0\n",
    "        for node, value in evidence.items():\n",
    "            joint_prob *= self.get_probability(node, value, evidence)\n",
    "        return joint_prob\n",
    "\n",
    "    def compute_marginal_probability(self, query_node, evidence):\n",
    "        # Calculate the marginal probability P(query_node=True|evidence)\n",
    "        # Sum over all possible values of other nodes\n",
    "        prob_true = self.compute_joint_probability({**evidence, query_node: True}) \n",
    "        prob_false = self.compute_joint_probability({**evidence, query_node: False})\n",
    "        return prob_true / (prob_true + prob_false)\n",
    "\n",
    "# Initialize the Bayesian Network\n",
    "bn = BayesianNetwork()\n",
    "\n",
    "# Define the conditional probability tables (CPTs)\n",
    "# Probabilities are hypothetical for demonstration purposes\n",
    "\n",
    "# P(Fever)\n",
    "bn.add_node('Fever', parents=[], cpt={(): 0.3})\n",
    "\n",
    "# P(Cough)\n",
    "bn.add_node('Cough', parents=[], cpt={(): 0.4})\n",
    "\n",
    "# P(Fatigue)\n",
    "bn.add_node('Fatigue', parents=[], cpt={(): 0.5})\n",
    "\n",
    "# P(Cold | Fever, Cough, Fatigue)\n",
    "bn.add_node(\n",
    "    'Cold',\n",
    "    parents=['Fever', 'Cough', 'Fatigue'],\n",
    "    cpt={\n",
    "        (True, True, True): 0.9,\n",
    "        (True, True, False): 0.8,\n",
    "        (True, False, True): 0.7,\n",
    "        (True, False, False): 0.6,\n",
    "        (False, True, True): 0.4,\n",
    "        (False, True, False): 0.3,\n",
    "        (False, False, True): 0.2,\n",
    "        (False, False, False): 0.1\n",
    "    }\n",
    ")\n",
    "\n",
    "# Define evidence for which we want to compute the probability of having a Cold\n",
    "evidence = {\n",
    "    'Fever': True,\n",
    "    'Cough': True,\n",
    "    'Fatigue': False\n",
    "}\n",
    "\n",
    "# Calculate the marginal probability P(Cold=True | Fever=True, Cough=True, Fatigue=False)\n",
    "probability_of_cold = bn.compute_marginal_probability('Cold', evidence)\n",
    "print(\"P(Cold=True | Fever=True, Cough=True, Fatigue=False) =\", probability_of_cold)\n"
   ]
  }
 ],
 "metadata": {
  "kernelspec": {
   "display_name": "Python 3 (ipykernel)",
   "language": "python",
   "name": "python3"
  },
  "language_info": {
   "codemirror_mode": {
    "name": "ipython",
    "version": 3
   },
   "file_extension": ".py",
   "mimetype": "text/x-python",
   "name": "python",
   "nbconvert_exporter": "python",
   "pygments_lexer": "ipython3",
   "version": "3.12.4"
  }
 },
 "nbformat": 4,
 "nbformat_minor": 5
}
