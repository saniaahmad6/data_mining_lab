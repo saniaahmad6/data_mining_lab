{
 "cells": [
  {
   "cell_type": "code",
   "execution_count": 1,
   "id": "13c56e0c-db36-4885-aa36-14c0599bbac9",
   "metadata": {},
   "outputs": [],
   "source": [
    "import numpy as np\n",
    "import pandas as pd"
   ]
  },
  {
   "cell_type": "code",
   "execution_count": 48,
   "id": "e48ed6dd-c894-4431-a9e5-013ebf8f983d",
   "metadata": {},
   "outputs": [],
   "source": [
    "class BBN:\n",
    "    def __init__(self):\n",
    "        self.nodes = {}\n",
    "\n",
    "    def add_node(self,node,parents,cpt):\n",
    "        self.nodes[node] = {\n",
    "            'parents' : parents,\n",
    "            'cpt': cpt\n",
    "        }\n",
    "        \n",
    "    def get_prob(self,node,value,evidence):\n",
    "        node_info = self.nodes[node]\n",
    "        bool_vals = tuple(evidence[parent] for parent in node_info['parents'])\n",
    "        prob_true = node_info['cpt'][bool_vals]\n",
    "        return prob_true if value==True else 1 - prob_true\n",
    "        \n",
    "    def get_joint(self,evidence):\n",
    "        res = 1.0\n",
    "        for node,value in evidence.items():\n",
    "            res *= self.get_prob(node,value,evidence)\n",
    "        return res\n",
    "\n",
    "    def get_marignal(self,node,evidence):\n",
    "        pt = self.get_joint({**evidence, node: True})\n",
    "        pf = self.get_joint({**evidence, node: False})\n",
    "        return pt / (pt + pf)"
   ]
  },
  {
   "cell_type": "code",
   "execution_count": 49,
   "id": "8852daa4-3360-4b56-9713-b36c2648c8b0",
   "metadata": {},
   "outputs": [],
   "source": [
    "bbn = BBN()"
   ]
  },
  {
   "cell_type": "code",
   "execution_count": 50,
   "id": "a99b4b14-9b1a-4bf4-b15e-ff91c573dc34",
   "metadata": {},
   "outputs": [],
   "source": [
    "# symptoms - base nodes\n",
    "bbn.add_node('Fever', parents=[], cpt={(): 0.3})\n",
    "bbn.add_node('Cough', parents=[], cpt={(): 0.4})\n",
    "bbn.add_node('Fatigue', parents=[], cpt={(): 0.5})"
   ]
  },
  {
   "cell_type": "code",
   "execution_count": 51,
   "id": "79d977b3-5ff5-4719-a564-4762ccf2c4dc",
   "metadata": {},
   "outputs": [],
   "source": [
    "bbn.add_node(\n",
    "    'Cold',\n",
    "    parents=['Fever', 'Cough', 'Fatigue'],\n",
    "    cpt={\n",
    "        (True, True, True): 0.9,\n",
    "        (True, True, False): 0.8,\n",
    "        (True, False, True): 0.7,\n",
    "        (True, False, False): 0.6,\n",
    "        (False, True, True): 0.4,\n",
    "        (False, True, False): 0.3,\n",
    "        (False, False, True): 0.2,\n",
    "        (False, False, False): 0.1\n",
    "    }\n",
    ")"
   ]
  },
  {
   "cell_type": "code",
   "execution_count": 52,
   "id": "a2d28346-e928-4ffa-b0b6-1bc7c16ab58d",
   "metadata": {},
   "outputs": [],
   "source": [
    "evidence = {\n",
    "    'Fever': True,\n",
    "    'Cough': True,\n",
    "    'Fatigue': False\n",
    "}"
   ]
  },
  {
   "cell_type": "code",
   "execution_count": 53,
   "id": "d299f6f9-b10c-4dee-91a0-762055b9563d",
   "metadata": {},
   "outputs": [
    {
     "data": {
      "text/plain": [
       "0.8"
      ]
     },
     "execution_count": 53,
     "metadata": {},
     "output_type": "execute_result"
    }
   ],
   "source": [
    "bbn.get_marignal('Cold',evidence)"
   ]
  },
  {
   "cell_type": "code",
   "execution_count": null,
   "id": "0ca5afc6-7d53-4f97-8e87-2eb967195c89",
   "metadata": {},
   "outputs": [],
   "source": []
  }
 ],
 "metadata": {
  "kernelspec": {
   "display_name": "Python 3 (ipykernel)",
   "language": "python",
   "name": "python3"
  },
  "language_info": {
   "codemirror_mode": {
    "name": "ipython",
    "version": 3
   },
   "file_extension": ".py",
   "mimetype": "text/x-python",
   "name": "python",
   "nbconvert_exporter": "python",
   "pygments_lexer": "ipython3",
   "version": "3.12.4"
  }
 },
 "nbformat": 4,
 "nbformat_minor": 5
}
