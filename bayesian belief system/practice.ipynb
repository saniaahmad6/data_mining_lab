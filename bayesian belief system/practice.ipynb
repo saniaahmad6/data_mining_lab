{
 "cells": [
  {
   "cell_type": "code",
   "execution_count": 44,
   "id": "de29073e-1f42-4513-9885-c57e7197ed50",
   "metadata": {},
   "outputs": [],
   "source": [
    "class BBN:\n",
    "    def __init__(self):\n",
    "        self.nodes={}\n",
    "    def add_node(self, node, parents, cpt):\n",
    "        # parents is a list\n",
    "        # cpt is a dict\n",
    "        self.nodes[node]={\n",
    "            'parents' : parents,\n",
    "            'cpt' : cpt\n",
    "        }\n",
    "\n",
    "    def get_prob(self,node,value,evidence):\n",
    "        node_info = self.nodes[node]\n",
    "        parent_bool_values = tuple(evidence[parent] for parent in node_info['parents']) # boolean tuple\n",
    "        prob_true = node_info['cpt'][parent_bool_values] \n",
    "        return prob_true if value==True else 1 - prob_true\n",
    "\n",
    "    def get_joint_prob(self,evidence):\n",
    "        joint_prob = 1.0\n",
    "        for item, value in evidence.items():\n",
    "            joint_prob *= self.get_prob(item,value,evidence)\n",
    "        return joint_prob\n",
    "\n",
    "    def get_marginal_prob(self,node,evidence): \n",
    "        # spread operator - update the evidence\n",
    "        prob_true = self.get_joint_prob({**evidence, node: True})\n",
    "        prob_false = self.get_joint_prob({**evidence, node: False})\n",
    "        return prob_true / (prob_true + prob_false)\n",
    "    "
   ]
  },
  {
   "cell_type": "code",
   "execution_count": 45,
   "id": "6dae8061-5507-4845-86ce-3163f4f6a0f6",
   "metadata": {},
   "outputs": [],
   "source": [
    "bbn = BBN()"
   ]
  },
  {
   "cell_type": "code",
   "execution_count": 46,
   "id": "84c71380-347c-49b7-9326-3feeaadbcfe2",
   "metadata": {},
   "outputs": [],
   "source": [
    "# symptoms - base nodes\n",
    "bbn.add_node('Fever', parents=[], cpt={(): 0.3})\n",
    "bbn.add_node('Cough', parents=[], cpt={(): 0.4})\n",
    "bbn.add_node('Fatigue', parents=[], cpt={(): 0.5})"
   ]
  },
  {
   "cell_type": "code",
   "execution_count": 47,
   "id": "ed01ce83-cf7b-48d7-94cc-ee33673bd29a",
   "metadata": {},
   "outputs": [],
   "source": [
    "# given value of base nodes\n",
    "evidence = {\n",
    "    'Fever': True,\n",
    "    'Cough': True,\n",
    "    'Fatigue': False\n",
    "}"
   ]
  },
  {
   "cell_type": "code",
   "execution_count": 48,
   "id": "0debe2e7-fbeb-42d8-9877-6fd93df30bd9",
   "metadata": {},
   "outputs": [],
   "source": [
    "bbn.add_node(\n",
    "    'Cold',\n",
    "    parents=['Fever', 'Cough', 'Fatigue'],\n",
    "    cpt={\n",
    "        (True, True, True): 0.9,\n",
    "        (True, True, False): 0.8,\n",
    "        (True, False, True): 0.7,\n",
    "        (True, False, False): 0.6,\n",
    "        (False, True, True): 0.4,\n",
    "        (False, True, False): 0.3,\n",
    "        (False, False, True): 0.2,\n",
    "        (False, False, False): 0.1\n",
    "    }\n",
    ")"
   ]
  },
  {
   "cell_type": "code",
   "execution_count": 49,
   "id": "ab1485bf-55ff-453a-b988-94fb32f65e26",
   "metadata": {},
   "outputs": [
    {
     "data": {
      "text/plain": [
       "0.06"
      ]
     },
     "execution_count": 49,
     "metadata": {},
     "output_type": "execute_result"
    }
   ],
   "source": [
    "bbn.get_joint_prob(evidence)"
   ]
  },
  {
   "cell_type": "code",
   "execution_count": 50,
   "id": "bffed56a-141e-45f6-a2a5-a3d12dad79e1",
   "metadata": {},
   "outputs": [
    {
     "data": {
      "text/plain": [
       "0.8"
      ]
     },
     "execution_count": 50,
     "metadata": {},
     "output_type": "execute_result"
    }
   ],
   "source": [
    "bbn.get_marginal_prob('Cold',evidence)"
   ]
  }
 ],
 "metadata": {
  "kernelspec": {
   "display_name": "Python 3 (ipykernel)",
   "language": "python",
   "name": "python3"
  },
  "language_info": {
   "codemirror_mode": {
    "name": "ipython",
    "version": 3
   },
   "file_extension": ".py",
   "mimetype": "text/x-python",
   "name": "python",
   "nbconvert_exporter": "python",
   "pygments_lexer": "ipython3",
   "version": "3.12.4"
  }
 },
 "nbformat": 4,
 "nbformat_minor": 5
}
