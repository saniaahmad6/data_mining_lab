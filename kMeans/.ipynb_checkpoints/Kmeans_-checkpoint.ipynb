{
 "cells": [
  {
   "cell_type": "code",
   "execution_count": 2,
   "id": "91d56a9b-fac5-4ff5-b607-85c521be866b",
   "metadata": {},
   "outputs": [
    {
     "name": "stdout",
     "output_type": "stream",
     "text": [
      "Iris-setosa accuracy: = 94%\n",
      "Iris-versicolor accuracy: = 100%\n",
      "Iris-virginica accuracy: = 100%\n"
     ]
    }
   ],
   "source": [
    "import numpy as np \n",
    "import pandas as pd \n",
    "from matplotlib import pyplot as plt\n",
    "from sklearn.cluster import KMeans\n",
    "from sklearn.preprocessing import LabelEncoder\n",
    "from sklearn.metrics import classification_report\n",
    "from sklearn.metrics import accuracy_score\n",
    "from sklearn.model_selection import train_test_split\n",
    "from scipy import stats\n",
    "from scipy.stats import mode\n",
    "\n",
    "# loading dataset \n",
    "df = pd.read_csv('iris.csv')\n",
    "\n",
    "# random train-test split\n",
    "train_df, test_df = train_test_split(df, test_size=0.25, random_state=42)\n",
    "X_train = train_df.drop('Species', axis=1)\n",
    "y_train = train_df['Species']\n",
    "X_test = test_df.drop('Species', axis=1)\n",
    "y_test = test_df['Species']\n",
    "\n",
    "# preprocessing the data\n",
    "le = LabelEncoder()\n",
    "y_train = le.fit_transform(y_train)\n",
    "y_test = le.transform(y_test)\n",
    "\n",
    "# determine the optimal number of clusters (K)\n",
    "wcss = []  # create an empty list to store the within-cluster sum of squares (WCSS) for each k\n",
    "for i in range(1, 11):  # iterate over a range of k values from 1 to 10\n",
    "    kmeans = KMeans(n_clusters=i, init='k-means++', max_iter=300, n_init=10, random_state=0)  # create a KMeans object with i clusters\n",
    "    kmeans.fit(X_train)  # fit the KMeans object to the training data\n",
    "    wcss.append(kmeans.inertia_)  # add the WCSS of the current KMeans object to the list of WCSS values\n",
    "\n",
    "# run K-Means algorithm multiple times\n",
    "# Part 6: Record distortion of each run and pick best run\n",
    "N = 100\n",
    "distortions = []\n",
    "for i in range(N):\n",
    "    kmeans = KMeans(n_clusters=3, init='random', max_iter=300, n_init=10, random_state=i)\n",
    "    kmeans.fit(X_train)\n",
    "    distortions.append(kmeans.inertia_)\n",
    "best_kmeans = KMeans(n_clusters=3, init='random', max_iter=300, n_init=10, random_state=distortions.index(min(distortions)))\n",
    "\n",
    "# Part 7: Assign cluster labels to training set and evaluate accuracy\n",
    "y_pred_train = best_kmeans.fit_predict(X_train)\n",
    "cluster_labels_train = np.zeros_like(y_pred_train)\n",
    "for i in range(3):\n",
    "    mask = (y_pred_train == i)\n",
    "    cluster_labels_train[mask] = mode(y_train[mask], keepdims=True)[0]\n",
    "accuracy_train = accuracy_score(y_train, cluster_labels_train)\n",
    "\n",
    "# Apply K-Means to testing set and evaluate accuracy\n",
    "y_pred_test = best_kmeans.predict(X_test)\n",
    "cluster_labels_test = np.zeros_like(y_pred_test)\n",
    "for i in range(3):\n",
    "    mask = (y_pred_test == i)\n",
    "    cluster_labels_test[mask] = mode(y_test[mask], keepdims=True)[0]\n",
    "accuracy_test = accuracy_score(y_test, cluster_labels_test)\n",
    "\n",
    "# Print accuracy percentages for each class on training and testing sets\n",
    "target_names = le.classes_\n",
    "for i, target_name in enumerate(target_names):\n",
    "    mask_train = (cluster_labels_train == i)\n",
    "    mask_test = (cluster_labels_test == i)\n",
    "    accuracy_class_train = accuracy_score(y_train[mask_train], cluster_labels_train[mask_train])\n",
    "    accuracy_class_test = accuracy_score(y_test[mask_test], cluster_labels_test[mask_test])\n",
    "    print(f\"{target_name} accuracy: = {accuracy_class_test:.0%}\")\n",
    "\n"
   ]
  }
 ],
 "metadata": {
  "kernelspec": {
   "display_name": "Python 3 (ipykernel)",
   "language": "python",
   "name": "python3"
  },
  "language_info": {
   "codemirror_mode": {
    "name": "ipython",
    "version": 3
   },
   "file_extension": ".py",
   "mimetype": "text/x-python",
   "name": "python",
   "nbconvert_exporter": "python",
   "pygments_lexer": "ipython3",
   "version": "3.12.4"
  }
 },
 "nbformat": 4,
 "nbformat_minor": 5
}
