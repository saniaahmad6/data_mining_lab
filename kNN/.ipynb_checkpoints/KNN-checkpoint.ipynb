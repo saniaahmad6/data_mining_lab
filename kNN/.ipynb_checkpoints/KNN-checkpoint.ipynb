{
 "cells": [
  {
   "cell_type": "code",
   "execution_count": 2,
   "metadata": {},
   "outputs": [],
   "source": [
    "import numpy as np\n",
    "import pandas as pd\n",
    "import matplotlib.pyplot as plt"
   ]
  },
  {
   "cell_type": "code",
   "execution_count": 3,
   "metadata": {},
   "outputs": [],
   "source": [
    "COLORS={\n",
    "    'Red':(255,0,0),\n",
    "    'Green':(0,255,0),\n",
    "    'Blue':(0,0,255),\n",
    "    'Yellow':(255,255,0),\n",
    "    'Orange':(255,128,0),\n",
    "    'Purple':(128,0,255),\n",
    "    'Cyan':(0,255,255),\n",
    "    'White':(255,255,255),\n",
    "    'Black':(0,0,0),\n",
    "    'Gray':(128,128,128),\n",
    "    'Pink':(255,0,255),\n",
    "    'Brown':(128,42,24),\n",
    "}\n",
    "\n",
    "color_indx=2\n",
    "class_indx=3"
   ]
  },
  {
   "cell_type": "code",
   "execution_count": 4,
   "metadata": {},
   "outputs": [],
   "source": [
    "df=pd.read_csv('data.csv')"
   ]
  },
  {
   "cell_type": "code",
   "execution_count": 5,
   "metadata": {},
   "outputs": [
    {
     "name": "stdout",
     "output_type": "stream",
     "text": [
      "    A1  A2      A3 Output\n",
      "0    6   4     Red      Y\n",
      "1    3   9   Green      Y\n",
      "2    8   2    Blue      Y\n",
      "3    1  10  Yellow      N\n",
      "4    2   3  Purple      N\n",
      "5    7   8  Orange      Y\n",
      "6    4   5    Pink      N\n",
      "7    9   6    Cyan      N\n",
      "8    5   1   Brown      Y\n",
      "9   10   7    Gray      Y\n",
      "10   2   8   Black      Y\n",
      "11   5   3   White      Y\n",
      "12   7   1     Red      N\n",
      "13   6  10   Green      N\n",
      "14   4   9    Blue      Y\n",
      "15   8   6  Yellow      N\n",
      "16   3   2  Purple      N\n",
      "17   1   7  Orange      N\n",
      "18   9   4    Pink      Y\n",
      "19  10   5    Cyan      Y\n",
      "20   2   6   Brown      Y\n",
      "21   3   8    Gray      Y\n",
      "22   4   1   Black      Y\n",
      "23   5  10   White      N\n",
      "24   7   9     Red      Y\n",
      "25   6   3   Green      Y\n",
      "26   8   5    Blue      N\n",
      "27   1   2  Yellow      Y\n",
      "28   9   7  Purple      N\n",
      "29  10   4  Orange      Y\n",
      "30   3   6    Pink      N\n",
      "31   5   8    Cyan      Y\n",
      "32   2  10   Brown      N\n",
      "33   4   7    Gray      Y\n",
      "34   6   1   Black      Y\n",
      "35   8   9   White      N\n"
     ]
    }
   ],
   "source": [
    "print(df)\n",
    "X=df.values.tolist();\n",
    "m=len(X)\n"
   ]
  },
  {
   "cell_type": "code",
   "execution_count": 9,
   "metadata": {},
   "outputs": [
    {
     "data": {
      "image/png": "[encoded data removed]",
      "text/plain": [
       "<Figure size 640x480 with 1 Axes>"
      ]
     },
     "metadata": {},
     "output_type": "display_data"
    }
   ],
   "source": [
    "for i in range(m):\n",
    "    if X[i][class_indx]=='Y':\n",
    "        plt.scatter(X[i][0],X[i][1],c='r',label=\"red\")\n",
    "    else:\n",
    "        plt.scatter(X[i][0],X[i][1],c=\"b\",label='blue')\n",
    "xt=[9,6,'Yellow'];\n",
    "plt.scatter(xt[0],xt[1],c='y',label='test',marker='*')\n",
    "plt.show()\n"
   ]
  },
  {
   "cell_type": "code",
   "execution_count": 7,
   "metadata": {},
   "outputs": [],
   "source": [
    "def calcColors(x1,x2):\n",
    "    r1,g1,b1=COLORS[x1]\n",
    "    r2,g2,b2=COLORS[x2]\n",
    "    return (r1-r2)**2+(g1-g2)**2+(b1-b2)**2\n",
    "\n",
    "def euclidean_distance(x1,x2):\n",
    "    distance=0\n",
    "    for i in range(len(x1)-1):\n",
    "        if(i==color_indx):\n",
    "            distance+=calcColors(x1[i],x2[i])\n",
    "        else :\n",
    "            distance+=(x1[i]-x2[i])**2\n",
    "\n",
    "    return np.sqrt(distance)\n",
    "\n",
    "def KNN(X,pt,k=5):\n",
    "    vals=[]\n",
    "    for i in range(len(X)):\n",
    "        distance=euclidean_distance(X[i],pt)\n",
    "        vals.append((distance,X[i][class_indx]))\n",
    "    vals=sorted(vals)\n",
    "    vals=vals[:k] # nearest k\n",
    "    vals=np.array(vals)\n",
    "    new_vals=np.unique(vals[:,1],return_counts=True) \n",
    "    index=new_vals[1].argmax() \n",
    "    return new_vals[0][index]"
   ]
  },
  {
   "cell_type": "code",
   "execution_count": 8,
   "metadata": {},
   "outputs": [
    {
     "name": "stdout",
     "output_type": "stream",
     "text": [
      "Y\n"
     ]
    }
   ],
   "source": [
    "print(KNN(X,xt));"
   ]
  },
  {
   "cell_type": "code",
   "execution_count": 13,
   "metadata": {},
   "outputs": [
    {
     "data": {
      "text/plain": [
       "(array([1, 2, 3]), array([1, 1, 4]))"
      ]
     },
     "execution_count": 13,
     "metadata": {},
     "output_type": "execute_result"
    }
   ],
   "source": [
    "arr = np.array([1,2,3,3,3,3])\n",
    "coll = np.unique(arr[:],return_counts = True)\n",
    "coll"
   ]
  },
  {
   "cell_type": "code",
   "execution_count": 14,
   "metadata": {},
   "outputs": [
    {
     "data": {
      "text/plain": [
       "2"
      ]
     },
     "execution_count": 14,
     "metadata": {},
     "output_type": "execute_result"
    }
   ],
   "source": [
    "coll[1].argmax() # get index of maximum one"
   ]
  },
  {
   "cell_type": "code",
   "execution_count": 15,
   "metadata": {},
   "outputs": [
    {
     "data": {
      "text/plain": [
       "3"
      ]
     },
     "execution_count": 15,
     "metadata": {},
     "output_type": "execute_result"
    }
   ],
   "source": [
    "coll[0][coll[1].argmax()]"
   ]
  },
  {
   "cell_type": "code",
   "execution_count": null,
   "metadata": {},
   "outputs": [],
   "source": []
  }
 ],
 "metadata": {
  "kernelspec": {
   "display_name": "Python 3 (ipykernel)",
   "language": "python",
   "name": "python3"
  },
  "language_info": {
   "codemirror_mode": {
    "name": "ipython",
    "version": 3
   },
   "file_extension": ".py",
   "mimetype": "text/x-python",
   "name": "python",
   "nbconvert_exporter": "python",
   "pygments_lexer": "ipython3",
   "version": "3.12.4"
  }
 },
 "nbformat": 4,
 "nbformat_minor": 4
}
