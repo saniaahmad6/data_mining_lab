{
 "cells": [
  {
   "cell_type": "code",
   "execution_count": 1,
   "id": "ee95d7c9-661d-42e9-abaf-c8555a1896a5",
   "metadata": {},
   "outputs": [],
   "source": [
    "import numpy as np\n",
    "import pandas as pd\n",
    "import matplotlib.pyplot as plt"
   ]
  },
  {
   "cell_type": "code",
   "execution_count": 2,
   "id": "d22e8f51-2b72-4f68-a9d2-48e0f6b3c42c",
   "metadata": {},
   "outputs": [],
   "source": [
    "COLORS={\n",
    "    'Red':(255,0,0),\n",
    "    'Green':(0,255,0),\n",
    "    'Blue':(0,0,255),\n",
    "    'Yellow':(255,255,0),\n",
    "    'Orange':(255,128,0),\n",
    "    'Purple':(128,0,255),\n",
    "    'Cyan':(0,255,255),\n",
    "    'White':(255,255,255),\n",
    "    'Black':(0,0,0),\n",
    "    'Gray':(128,128,128),\n",
    "    'Pink':(255,0,255),\n",
    "    'Brown':(128,42,24),\n",
    "}\n"
   ]
  },
  {
   "cell_type": "code",
   "execution_count": 3,
   "id": "b404348e-d7a7-4d11-bd11-f87a96274b24",
   "metadata": {},
   "outputs": [
    {
     "data": {
      "text/html": [
       "<div>\n",
       "<style scoped>\n",
       "    .dataframe tbody tr th:only-of-type {\n",
       "        vertical-align: middle;\n",
       "    }\n",
       "\n",
       "    .dataframe tbody tr th {\n",
       "        vertical-align: top;\n",
       "    }\n",
       "\n",
       "    .dataframe thead th {\n",
       "        text-align: right;\n",
       "    }\n",
       "</style>\n",
       "<table border=\"1\" class=\"dataframe\">\n",
       "  <thead>\n",
       "    <tr style=\"text-align: right;\">\n",
       "      <th></th>\n",
       "      <th>A1</th>\n",
       "      <th>A2</th>\n",
       "      <th>A3</th>\n",
       "      <th>Output</th>\n",
       "    </tr>\n",
       "  </thead>\n",
       "  <tbody>\n",
       "    <tr>\n",
       "      <th>0</th>\n",
       "      <td>6</td>\n",
       "      <td>4</td>\n",
       "      <td>Red</td>\n",
       "      <td>Y</td>\n",
       "    </tr>\n",
       "    <tr>\n",
       "      <th>1</th>\n",
       "      <td>3</td>\n",
       "      <td>9</td>\n",
       "      <td>Green</td>\n",
       "      <td>Y</td>\n",
       "    </tr>\n",
       "    <tr>\n",
       "      <th>2</th>\n",
       "      <td>8</td>\n",
       "      <td>2</td>\n",
       "      <td>Blue</td>\n",
       "      <td>Y</td>\n",
       "    </tr>\n",
       "    <tr>\n",
       "      <th>3</th>\n",
       "      <td>1</td>\n",
       "      <td>10</td>\n",
       "      <td>Yellow</td>\n",
       "      <td>N</td>\n",
       "    </tr>\n",
       "    <tr>\n",
       "      <th>4</th>\n",
       "      <td>2</td>\n",
       "      <td>3</td>\n",
       "      <td>Purple</td>\n",
       "      <td>N</td>\n",
       "    </tr>\n",
       "  </tbody>\n",
       "</table>\n",
       "</div>"
      ],
      "text/plain": [
       "   A1  A2      A3 Output\n",
       "0   6   4     Red      Y\n",
       "1   3   9   Green      Y\n",
       "2   8   2    Blue      Y\n",
       "3   1  10  Yellow      N\n",
       "4   2   3  Purple      N"
      ]
     },
     "execution_count": 3,
     "metadata": {},
     "output_type": "execute_result"
    }
   ],
   "source": [
    "df=pd.read_csv('data.csv')\n",
    "df.head()"
   ]
  },
  {
   "cell_type": "code",
   "execution_count": 4,
   "id": "eee681a4-0bbc-424a-9f87-e56399604eb6",
   "metadata": {},
   "outputs": [],
   "source": [
    "color_index=2\n",
    "class_index=3"
   ]
  },
  {
   "cell_type": "code",
   "execution_count": 5,
   "id": "6fbd569f-e5d9-45e9-9083-a7a530d8ad25",
   "metadata": {},
   "outputs": [
    {
     "data": {
      "text/plain": [
       "[[6, 4, 'Red', 'Y'],\n",
       " [3, 9, 'Green', 'Y'],\n",
       " [8, 2, 'Blue', 'Y'],\n",
       " [1, 10, 'Yellow', 'N'],\n",
       " [2, 3, 'Purple', 'N'],\n",
       " [7, 8, 'Orange', 'Y'],\n",
       " [4, 5, 'Pink', 'N'],\n",
       " [9, 6, 'Cyan', 'N'],\n",
       " [5, 1, 'Brown', 'Y'],\n",
       " [10, 7, 'Gray', 'Y'],\n",
       " [2, 8, 'Black', 'Y'],\n",
       " [5, 3, 'White', 'Y'],\n",
       " [7, 1, 'Red', 'N'],\n",
       " [6, 10, 'Green', 'N'],\n",
       " [4, 9, 'Blue', 'Y'],\n",
       " [8, 6, 'Yellow', 'N'],\n",
       " [3, 2, 'Purple', 'N'],\n",
       " [1, 7, 'Orange', 'N'],\n",
       " [9, 4, 'Pink', 'Y'],\n",
       " [10, 5, 'Cyan', 'Y'],\n",
       " [2, 6, 'Brown', 'Y'],\n",
       " [3, 8, 'Gray', 'Y'],\n",
       " [4, 1, 'Black', 'Y'],\n",
       " [5, 10, 'White', 'N'],\n",
       " [7, 9, 'Red', 'Y'],\n",
       " [6, 3, 'Green', 'Y'],\n",
       " [8, 5, 'Blue', 'N'],\n",
       " [1, 2, 'Yellow', 'Y'],\n",
       " [9, 7, 'Purple', 'N'],\n",
       " [10, 4, 'Orange', 'Y'],\n",
       " [3, 6, 'Pink', 'N'],\n",
       " [5, 8, 'Cyan', 'Y'],\n",
       " [2, 10, 'Brown', 'N'],\n",
       " [4, 7, 'Gray', 'Y'],\n",
       " [6, 1, 'Black', 'Y'],\n",
       " [8, 9, 'White', 'N']]"
      ]
     },
     "execution_count": 5,
     "metadata": {},
     "output_type": "execute_result"
    }
   ],
   "source": [
    "X=df.values.tolist()\n",
    "X\n"
   ]
  },
  {
   "cell_type": "code",
   "execution_count": 7,
   "id": "8ca60c52-05ab-44c0-856a-d78a36e9eb9a",
   "metadata": {},
   "outputs": [],
   "source": [
    "def calc_color_diff(c1,c2):\n",
    "    r1,g1,b1=COLORS[c1]\n",
    "    r2,g2,b2=COLORS[c2]\n",
    "    return (r1-r2)**2+(g1-g2)**2+(b1-b2)**2\n",
    "\n",
    "def dis(x1,x2):\n",
    "    distance = 0\n",
    "    for i in range(len(x1) - 1):\n",
    "        if i==color_index:\n",
    "            distance+=calc_color_diff(x1[i],x2[i])\n",
    "        else:\n",
    "            distance+=(x1[i]-x2[i])**2\n",
    "\n",
    "    return np.sqrt(distance)\n"
   ]
  },
  {
   "cell_type": "code",
   "execution_count": 9,
   "id": "337878c6-83c7-4215-bf19-a81ef1e68e79",
   "metadata": {},
   "outputs": [],
   "source": [
    "xt=[9,6,'Yellow']"
   ]
  },
  {
   "cell_type": "code",
   "execution_count": 13,
   "id": "886c0072-543f-4ddc-a938-ace9490ab3f7",
   "metadata": {},
   "outputs": [],
   "source": [
    "def KNN(target,X,k=4):\n",
    "    res = []\n",
    "    for row in X:\n",
    "        dist = dis(row,target)\n",
    "        res.append((dist,row[-1]))\n",
    "    res = sorted(res)\n",
    "    res = np.array(res)\n",
    "    res = res[:k]\n",
    "    counts = np.unique(res[:,1], return_counts = True)\n",
    "    idx = np.argmax(counts[1])\n",
    "    return counts[idx][0]"
   ]
  },
  {
   "cell_type": "code",
   "execution_count": 14,
   "id": "05f50629-b506-4b6b-b946-e8a211086613",
   "metadata": {},
   "outputs": [
    {
     "data": {
      "text/plain": [
       "'N'"
      ]
     },
     "execution_count": 14,
     "metadata": {},
     "output_type": "execute_result"
    }
   ],
   "source": [
    "KNN(xt,X)"
   ]
  },
  {
   "cell_type": "code",
   "execution_count": null,
   "id": "165b80c9-51ad-414e-a377-aabe00cb5c58",
   "metadata": {},
   "outputs": [],
   "source": []
  },
  {
   "cell_type": "code",
   "execution_count": null,
   "id": "f419a26e-fdf1-4294-a890-1ebb40d516cb",
   "metadata": {},
   "outputs": [],
   "source": []
  }
 ],
 "metadata": {
  "kernelspec": {
   "display_name": "Python 3 (ipykernel)",
   "language": "python",
   "name": "python3"
  },
  "language_info": {
   "codemirror_mode": {
    "name": "ipython",
    "version": 3
   },
   "file_extension": ".py",
   "mimetype": "text/x-python",
   "name": "python",
   "nbconvert_exporter": "python",
   "pygments_lexer": "ipython3",
   "version": "3.12.4"
  }
 },
 "nbformat": 4,
 "nbformat_minor": 5
}
