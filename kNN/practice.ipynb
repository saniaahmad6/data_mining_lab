{
 "cells": [
  {
   "cell_type": "code",
   "execution_count": 1,
   "id": "6e7f64de-11e8-4ec5-a647-5b319657374f",
   "metadata": {},
   "outputs": [],
   "source": [
    "import numpy as np\n",
    "import pandas as pd\n",
    "import matplotlib.pyplot as plt"
   ]
  },
  {
   "cell_type": "code",
   "execution_count": 11,
   "id": "9add02aa-74bb-4688-afba-08596a816405",
   "metadata": {},
   "outputs": [],
   "source": [
    "# color values\n",
    "COLORS={\n",
    "    'Red':(255,0,0),\n",
    "    'Green':(0,255,0),\n",
    "    'Blue':(0,0,255),\n",
    "    'Yellow':(255,255,0),\n",
    "    'Orange':(255,128,0),\n",
    "    'Purple':(128,0,255),\n",
    "    'Cyan':(0,255,255),\n",
    "    'White':(255,255,255),\n",
    "    'Black':(0,0,0),\n",
    "    'Gray':(128,128,128),\n",
    "    'Pink':(255,0,255),\n",
    "    'Brown':(128,42,24),\n",
    "}\n"
   ]
  },
  {
   "cell_type": "code",
   "execution_count": 12,
   "id": "e8db08f5-2cd5-4589-a8ef-632ea0a18c77",
   "metadata": {},
   "outputs": [
    {
     "data": {
      "text/html": [
       "<div>\n",
       "<style scoped>\n",
       "    .dataframe tbody tr th:only-of-type {\n",
       "        vertical-align: middle;\n",
       "    }\n",
       "\n",
       "    .dataframe tbody tr th {\n",
       "        vertical-align: top;\n",
       "    }\n",
       "\n",
       "    .dataframe thead th {\n",
       "        text-align: right;\n",
       "    }\n",
       "</style>\n",
       "<table border=\"1\" class=\"dataframe\">\n",
       "  <thead>\n",
       "    <tr style=\"text-align: right;\">\n",
       "      <th></th>\n",
       "      <th>A1</th>\n",
       "      <th>A2</th>\n",
       "      <th>A3</th>\n",
       "      <th>Output</th>\n",
       "    </tr>\n",
       "  </thead>\n",
       "  <tbody>\n",
       "    <tr>\n",
       "      <th>0</th>\n",
       "      <td>6</td>\n",
       "      <td>4</td>\n",
       "      <td>Red</td>\n",
       "      <td>Y</td>\n",
       "    </tr>\n",
       "    <tr>\n",
       "      <th>1</th>\n",
       "      <td>3</td>\n",
       "      <td>9</td>\n",
       "      <td>Green</td>\n",
       "      <td>Y</td>\n",
       "    </tr>\n",
       "    <tr>\n",
       "      <th>2</th>\n",
       "      <td>8</td>\n",
       "      <td>2</td>\n",
       "      <td>Blue</td>\n",
       "      <td>Y</td>\n",
       "    </tr>\n",
       "    <tr>\n",
       "      <th>3</th>\n",
       "      <td>1</td>\n",
       "      <td>10</td>\n",
       "      <td>Yellow</td>\n",
       "      <td>N</td>\n",
       "    </tr>\n",
       "    <tr>\n",
       "      <th>4</th>\n",
       "      <td>2</td>\n",
       "      <td>3</td>\n",
       "      <td>Purple</td>\n",
       "      <td>N</td>\n",
       "    </tr>\n",
       "  </tbody>\n",
       "</table>\n",
       "</div>"
      ],
      "text/plain": [
       "   A1  A2      A3 Output\n",
       "0   6   4     Red      Y\n",
       "1   3   9   Green      Y\n",
       "2   8   2    Blue      Y\n",
       "3   1  10  Yellow      N\n",
       "4   2   3  Purple      N"
      ]
     },
     "execution_count": 12,
     "metadata": {},
     "output_type": "execute_result"
    }
   ],
   "source": [
    "df=pd.read_csv('data.csv')\n",
    "df.head()"
   ]
  },
  {
   "cell_type": "code",
   "execution_count": 13,
   "id": "160d2ee4-3d40-4472-9074-85736d5a37f2",
   "metadata": {},
   "outputs": [],
   "source": [
    "color_index=2\n",
    "class_index=3"
   ]
  },
  {
   "cell_type": "code",
   "execution_count": 14,
   "id": "3da08b0d-83bf-4987-913a-29b7dad7517b",
   "metadata": {},
   "outputs": [
    {
     "data": {
      "text/plain": [
       "[[6, 4, 'Red', 'Y'],\n",
       " [3, 9, 'Green', 'Y'],\n",
       " [8, 2, 'Blue', 'Y'],\n",
       " [1, 10, 'Yellow', 'N'],\n",
       " [2, 3, 'Purple', 'N'],\n",
       " [7, 8, 'Orange', 'Y'],\n",
       " [4, 5, 'Pink', 'N'],\n",
       " [9, 6, 'Cyan', 'N'],\n",
       " [5, 1, 'Brown', 'Y'],\n",
       " [10, 7, 'Gray', 'Y'],\n",
       " [2, 8, 'Black', 'Y'],\n",
       " [5, 3, 'White', 'Y'],\n",
       " [7, 1, 'Red', 'N'],\n",
       " [6, 10, 'Green', 'N'],\n",
       " [4, 9, 'Blue', 'Y'],\n",
       " [8, 6, 'Yellow', 'N'],\n",
       " [3, 2, 'Purple', 'N'],\n",
       " [1, 7, 'Orange', 'N'],\n",
       " [9, 4, 'Pink', 'Y'],\n",
       " [10, 5, 'Cyan', 'Y'],\n",
       " [2, 6, 'Brown', 'Y'],\n",
       " [3, 8, 'Gray', 'Y'],\n",
       " [4, 1, 'Black', 'Y'],\n",
       " [5, 10, 'White', 'N'],\n",
       " [7, 9, 'Red', 'Y'],\n",
       " [6, 3, 'Green', 'Y'],\n",
       " [8, 5, 'Blue', 'N'],\n",
       " [1, 2, 'Yellow', 'Y'],\n",
       " [9, 7, 'Purple', 'N'],\n",
       " [10, 4, 'Orange', 'Y'],\n",
       " [3, 6, 'Pink', 'N'],\n",
       " [5, 8, 'Cyan', 'Y'],\n",
       " [2, 10, 'Brown', 'N'],\n",
       " [4, 7, 'Gray', 'Y'],\n",
       " [6, 1, 'Black', 'Y'],\n",
       " [8, 9, 'White', 'N']]"
      ]
     },
     "execution_count": 14,
     "metadata": {},
     "output_type": "execute_result"
    }
   ],
   "source": [
    "X=df.values.tolist();\n",
    "X"
   ]
  },
  {
   "cell_type": "code",
   "execution_count": 15,
   "id": "a66e07a5-bf48-40fa-96bf-168bfd035603",
   "metadata": {},
   "outputs": [],
   "source": [
    "m = len(df)"
   ]
  },
  {
   "cell_type": "code",
   "execution_count": 16,
   "id": "f444b4a9-4818-46dd-8e09-dea2e53b4ce9",
   "metadata": {},
   "outputs": [
    {
     "data": {
      "image/png": "[encoded data removed]",
      "text/plain": [
       "<Figure size 640x480 with 1 Axes>"
      ]
     },
     "metadata": {},
     "output_type": "display_data"
    }
   ],
   "source": [
    "for i in range(m):\n",
    "    if X[i][class_index]=='Y':\n",
    "        plt.scatter(X[i][0],X[i][1],c='r',label='red')\n",
    "    else:\n",
    "        plt.scatter(X[i][0],X[i][1],c='b',label='blue')\n",
    "\n",
    "xt=[9,6,'Yellow']\n",
    "plt.scatter(xt[0],xt[1],c='y',label='test',marker='*')\n",
    "plt.show()"
   ]
  },
  {
   "cell_type": "code",
   "execution_count": 10,
   "id": "435699cf-2477-49bf-b260-b4717f099520",
   "metadata": {},
   "outputs": [],
   "source": [
    "def calc_color_diff(c1,c2):\n",
    "    r1,g1,b1=COLORS[c1]\n",
    "    r2,g2,b2=COLORS[c2]\n",
    "    return (r1-r2)**2+(g1-g2)**2+(b1-b2)**2\n",
    "\n",
    "def calc_distance(x1,x2):\n",
    "    distance = 0\n",
    "    for i in range(len(x1) - 1):\n",
    "        if i==color_index:\n",
    "            distance+=calc_color_diff(x1[i],x2[i])\n",
    "        else:\n",
    "            distance+=(x1[i]-x2[i])**2\n",
    "\n",
    "    return np.sqrt(distance)\n"
   ]
  },
  {
   "cell_type": "code",
   "execution_count": 84,
   "id": "4382e7ba-ddd0-403d-ad4c-47ac80b4514a",
   "metadata": {},
   "outputs": [],
   "source": [
    "def KNN(target,X,k=6):\n",
    "    vals = []\n",
    "    for i in range(m):\n",
    "        distance = calc_distance(target,X[i])\n",
    "        vals.append((distance,X[i][class_index])) # distance,targetlabel\n",
    "    vals = sorted(vals)\n",
    "    vals = vals[:k] # first k\n",
    "    vals = np.array(vals)\n",
    "    counts = np.unique(vals[:,1],return_counts = True) # sorted count \n",
    "    index=counts[1].argmax() # max count index\n",
    "    print(counts)\n",
    "    return counts[0][index]\n",
    "    "
   ]
  },
  {
   "cell_type": "code",
   "execution_count": 85,
   "id": "2b22909f-ed9b-44a4-8018-9872a70c402a",
   "metadata": {},
   "outputs": [
    {
     "name": "stdout",
     "output_type": "stream",
     "text": [
      "(array(['N', 'Y'], dtype='<U32'), array([4, 2]))\n"
     ]
    },
    {
     "data": {
      "text/plain": [
       "'N'"
      ]
     },
     "execution_count": 85,
     "metadata": {},
     "output_type": "execute_result"
    }
   ],
   "source": [
    "KNN(xt,X)"
   ]
  },
  {
   "cell_type": "code",
   "execution_count": null,
   "id": "e6ef13f8-0cfc-4ca2-975a-58f1ed178a3a",
   "metadata": {},
   "outputs": [],
   "source": []
  }
 ],
 "metadata": {
  "kernelspec": {
   "display_name": "Python 3 (ipykernel)",
   "language": "python",
   "name": "python3"
  },
  "language_info": {
   "codemirror_mode": {
    "name": "ipython",
    "version": 3
   },
   "file_extension": ".py",
   "mimetype": "text/x-python",
   "name": "python",
   "nbconvert_exporter": "python",
   "pygments_lexer": "ipython3",
   "version": "3.12.4"
  }
 },
 "nbformat": 4,
 "nbformat_minor": 5
}
