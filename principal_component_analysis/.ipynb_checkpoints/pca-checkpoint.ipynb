{
 "cells": [
  {
   "cell_type": "code",
   "execution_count": null,
   "id": "60ba9239-d471-4d98-996e-b005c149e0c3",
   "metadata": {},
   "outputs": [],
   "source": [
    "import numpy as np\n",
    "\n",
    "# Step 1: Create a sample dataset (5 samples, 3 features)\n",
    "data = np.array([\n",
    "    [2.5, 2.4, 1.0],\n",
    "    [0.5, 0.7, 1.3],\n",
    "    [2.2, 2.9, 0.9],\n",
    "    [1.9, 2.2, 1.2],\n",
    "    [3.1, 3.0, 1.5]\n",
    "])\n",
    "\n",
    "# Step 2: Standardize the dataset by subtracting the mean\n",
    "mean = np.mean(data, axis=0)\n",
    "data_centered = data - mean\n",
    "\n",
    "# Step 3: Compute the covariance matrix\n",
    "cov_matrix = np.cov(data_centered, rowvar=False)\n",
    "\n",
    "# Step 4: Calculate the eigenvalues and eigenvectors\n",
    "eigenvalues, eigenvectors = np.linalg.eigh(cov_matrix)\n",
    "\n",
    "# Step 5: Sort eigenvalues and eigenvectors in descending order\n",
    "sorted_indices = np.argsort(eigenvalues)[::-1]\n",
    "sorted_eigenvalues = eigenvalues[sorted_indices]\n",
    "sorted_eigenvectors = eigenvectors[:, sorted_indices]\n",
    "\n",
    "# Step 6: Select the top k eigenvectors (principal components)\n",
    "k = 2  # Reduce to 2 dimensions\n",
    "principal_components = sorted_eigenvectors[:, :k]\n",
    "\n",
    "# Step 7: Transform the data to the new space\n",
    "reduced_data = np.dot(data_centered, principal_components)\n",
    "\n",
    "# Output results\n",
    "print(\"Original Data:\\n\", data)\n",
    "print(\"\\nMean of Original Data:\\n\", mean)\n",
    "print(\"\\nCentered Data:\\n\", data_centered)\n",
    "print(\"\\nCovariance Matrix:\\n\", cov_matrix)\n",
    "print(\"\\nEigenvalues:\\n\", sorted_eigenvalues)\n",
    "print(\"\\nEigenvectors:\\n\", sorted_eigenvectors)\n",
    "print(\"\\nPrincipal Components (Top 2):\\n\", principal_components)\n",
    "print(\"\\nReduced Data:\\n\", reduced_data)\n"
   ]
  }
 ],
 "metadata": {
  "kernelspec": {
   "display_name": "Python 3 (ipykernel)",
   "language": "python",
   "name": "python3"
  },
  "language_info": {
   "codemirror_mode": {
    "name": "ipython",
    "version": 3
   },
   "file_extension": ".py",
   "mimetype": "text/x-python",
   "name": "python",
   "nbconvert_exporter": "python",
   "pygments_lexer": "ipython3",
   "version": "3.12.4"
  }
 },
 "nbformat": 4,
 "nbformat_minor": 5
}
