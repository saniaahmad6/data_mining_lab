{
 "cells": [
  {
   "cell_type": "code",
   "execution_count": 1,
   "id": "aba43dfc-c0d9-49c5-9e44-dd0e905914e1",
   "metadata": {},
   "outputs": [],
   "source": [
    "import numpy as np"
   ]
  },
  {
   "cell_type": "code",
   "execution_count": 3,
   "id": "03276a27-be88-4f8e-aa8e-1080bf6bd71f",
   "metadata": {},
   "outputs": [],
   "source": [
    "data = np.array([\n",
    "    [2.5, 2.4, 1.0],\n",
    "    [0.5, 0.7, 1.3],\n",
    "    [2.2, 2.9, 0.9],\n",
    "    [1.9, 2.2, 1.2],\n",
    "    [3.1, 3.0, 1.5]\n",
    "])"
   ]
  },
  {
   "cell_type": "code",
   "execution_count": 5,
   "id": "2e50a1df-df8f-4d02-9dda-895a0f586e52",
   "metadata": {},
   "outputs": [
    {
     "data": {
      "text/plain": [
       "array([2.04, 2.24, 1.18])"
      ]
     },
     "execution_count": 5,
     "metadata": {},
     "output_type": "execute_result"
    }
   ],
   "source": [
    "mean = np.mean(data, axis = 0)\n",
    "mean"
   ]
  },
  {
   "cell_type": "code",
   "execution_count": 7,
   "id": "8960816d-7728-4c7c-af3d-dc175d670495",
   "metadata": {},
   "outputs": [
    {
     "data": {
      "text/plain": [
       "array([[ 0.46,  0.16, -0.18],\n",
       "       [-1.54, -1.54,  0.12],\n",
       "       [ 0.16,  0.66, -0.28],\n",
       "       [-0.14, -0.04,  0.02],\n",
       "       [ 1.06,  0.76,  0.32]])"
      ]
     },
     "execution_count": 7,
     "metadata": {},
     "output_type": "execute_result"
    }
   ],
   "source": [
    "data_centered = data - mean\n",
    "data_centered"
   ]
  },
  {
   "cell_type": "code",
   "execution_count": 11,
   "id": "d720f00f-242c-4900-945e-dddf7fcd7514",
   "metadata": {},
   "outputs": [
    {
     "data": {
      "text/plain": [
       "array([[ 0.938 ,  0.8405,  0.006 ],\n",
       "       [ 0.8405,  0.853 , -0.039 ],\n",
       "       [ 0.006 , -0.039 ,  0.057 ]])"
      ]
     },
     "execution_count": 11,
     "metadata": {},
     "output_type": "execute_result"
    }
   ],
   "source": [
    "covariance_matrix = np.cov(data_centered, rowvar=False)\n",
    "covariance_matrix"
   ]
  },
  {
   "cell_type": "code",
   "execution_count": 13,
   "id": "d02ed5f9-ce82-4cd0-9201-820e2da6e63d",
   "metadata": {},
   "outputs": [
    {
     "data": {
      "text/plain": [
       "array([0.02288631, 0.08773785, 1.73737583])"
      ]
     },
     "execution_count": 13,
     "metadata": {},
     "output_type": "execute_result"
    }
   ],
   "source": [
    "eigenvalues, eigenvectors = np.linalg.eigh(covariance_matrix)\n",
    "eigenvalues"
   ]
  },
  {
   "cell_type": "code",
   "execution_count": 14,
   "id": "b4402b80-5440-4b32-88a0-ea85d70fafba",
   "metadata": {},
   "outputs": [
    {
     "data": {
      "text/plain": [
       "array([[-0.49092761,  0.48383043, -0.72449859],\n",
       "       [ 0.52957044, -0.494604  , -0.68914587],\n",
       "       [ 0.69176964,  0.72199377,  0.01340753]])"
      ]
     },
     "execution_count": 14,
     "metadata": {},
     "output_type": "execute_result"
    }
   ],
   "source": [
    "eigenvectors"
   ]
  },
  {
   "cell_type": "code",
   "execution_count": 16,
   "id": "a765de84-b63b-474f-8466-0385b082b3d1",
   "metadata": {},
   "outputs": [
    {
     "data": {
      "text/plain": [
       "array([2, 1, 0])"
      ]
     },
     "execution_count": 16,
     "metadata": {},
     "output_type": "execute_result"
    }
   ],
   "source": [
    "sorted_indices = np.argsort(eigenvalues)[::-1]\n",
    "sorted_indices # sort the indices in reverse order"
   ]
  },
  {
   "cell_type": "code",
   "execution_count": 17,
   "id": "76061b0a-79f1-4a39-a796-0f7310ad0286",
   "metadata": {},
   "outputs": [
    {
     "data": {
      "text/plain": [
       "array([1.73737583, 0.08773785, 0.02288631])"
      ]
     },
     "execution_count": 17,
     "metadata": {},
     "output_type": "execute_result"
    }
   ],
   "source": [
    "sorted_eigenvalues = eigenvalues[sorted_indices]\n",
    "sorted_eigenvalues"
   ]
  },
  {
   "cell_type": "code",
   "execution_count": 18,
   "id": "fa3c219b-bb16-4f6a-884b-657d39c63d57",
   "metadata": {},
   "outputs": [
    {
     "data": {
      "text/plain": [
       "array([[-0.72449859,  0.48383043, -0.49092761],\n",
       "       [-0.68914587, -0.494604  ,  0.52957044],\n",
       "       [ 0.01340753,  0.72199377,  0.69176964]])"
      ]
     },
     "execution_count": 18,
     "metadata": {},
     "output_type": "execute_result"
    }
   ],
   "source": [
    "sorted_eigenvectors = eigenvectors[:, sorted_indices]\n",
    "sorted_eigenvectors"
   ]
  },
  {
   "cell_type": "code",
   "execution_count": 20,
   "id": "4fd42e5c-e681-446a-bc29-96a8450cc0a6",
   "metadata": {},
   "outputs": [
    {
     "data": {
      "text/plain": [
       "array([[-0.72449859,  0.48383043],\n",
       "       [-0.68914587, -0.494604  ],\n",
       "       [ 0.01340753,  0.72199377]])"
      ]
     },
     "execution_count": 20,
     "metadata": {},
     "output_type": "execute_result"
    }
   ],
   "source": [
    "k = 2  # Reduce to 2 dimensions\n",
    "principal_components = sorted_eigenvectors[:, :k]\n",
    "principal_components"
   ]
  },
  {
   "cell_type": "code",
   "execution_count": 21,
   "id": "fa9ab155-b611-478c-bfc3-91aef24c6286",
   "metadata": {},
   "outputs": [
    {
     "data": {
      "text/plain": [
       "array([[-0.44594605,  0.01346648],\n",
       "       [ 2.17862137,  0.10323055],\n",
       "       [-0.57451016, -0.45118403],\n",
       "       [ 0.12926379, -0.03351222],\n",
       "       [-1.28742896,  0.36799922]])"
      ]
     },
     "execution_count": 21,
     "metadata": {},
     "output_type": "execute_result"
    }
   ],
   "source": [
    "reduced_data = np.dot(data_centered, principal_components)\n",
    "reduced_data"
   ]
  }
 ],
 "metadata": {
  "kernelspec": {
   "display_name": "Python 3 (ipykernel)",
   "language": "python",
   "name": "python3"
  },
  "language_info": {
   "codemirror_mode": {
    "name": "ipython",
    "version": 3
   },
   "file_extension": ".py",
   "mimetype": "text/x-python",
   "name": "python",
   "nbconvert_exporter": "python",
   "pygments_lexer": "ipython3",
   "version": "3.12.4"
  }
 },
 "nbformat": 4,
 "nbformat_minor": 5
}
