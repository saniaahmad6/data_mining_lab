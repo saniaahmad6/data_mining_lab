{
 "cells": [
  {
   "cell_type": "code",
   "execution_count": 2,
   "id": "0dc6237a-31da-4609-a256-e58a8d17f0d0",
   "metadata": {},
   "outputs": [],
   "source": [
    "import numpy as np"
   ]
  },
  {
   "cell_type": "code",
   "execution_count": 3,
   "id": "8afd7af7-1021-4b3f-b22e-3fd30fe953cb",
   "metadata": {},
   "outputs": [],
   "source": [
    "data = np.array([\n",
    "    [2.5, 2.4, 1.0],\n",
    "    [0.5, 0.7, 1.3],\n",
    "    [2.2, 2.9, 0.9],\n",
    "    [1.9, 2.2, 1.2],\n",
    "    [3.1, 3.0, 1.5]\n",
    "])"
   ]
  },
  {
   "cell_type": "code",
   "execution_count": 4,
   "id": "b5b38681-07c2-4424-bfa4-8c9eebebb213",
   "metadata": {},
   "outputs": [],
   "source": [
    "mean = np.mean(data,axis = 0)"
   ]
  },
  {
   "cell_type": "code",
   "execution_count": 5,
   "id": "49fb7289-601f-4811-8bcb-d9d214638d98",
   "metadata": {},
   "outputs": [
    {
     "data": {
      "text/plain": [
       "array([[ 0.46,  0.16, -0.18],\n",
       "       [-1.54, -1.54,  0.12],\n",
       "       [ 0.16,  0.66, -0.28],\n",
       "       [-0.14, -0.04,  0.02],\n",
       "       [ 1.06,  0.76,  0.32]])"
      ]
     },
     "execution_count": 5,
     "metadata": {},
     "output_type": "execute_result"
    }
   ],
   "source": [
    "data_centered = data - mean\n",
    "data_centered"
   ]
  },
  {
   "cell_type": "code",
   "execution_count": 8,
   "id": "f2f9afbc-6ecf-4b4d-be4b-e990c975a66c",
   "metadata": {},
   "outputs": [
    {
     "data": {
      "text/plain": [
       "array([[ 0.938 ,  0.8405,  0.006 ],\n",
       "       [ 0.8405,  0.853 , -0.039 ],\n",
       "       [ 0.006 , -0.039 ,  0.057 ]])"
      ]
     },
     "execution_count": 8,
     "metadata": {},
     "output_type": "execute_result"
    }
   ],
   "source": [
    "cov_mat = np.cov(data_centered, rowvar=False)\n",
    "cov_mat"
   ]
  },
  {
   "cell_type": "code",
   "execution_count": 9,
   "id": "c9a03bb6-3868-4510-9190-864b33c2d380",
   "metadata": {},
   "outputs": [],
   "source": [
    "eval,evec = np.linalg.eigh(cov_mat)"
   ]
  },
  {
   "cell_type": "code",
   "execution_count": 10,
   "id": "1cd26949-42af-4321-af2f-f32111121e27",
   "metadata": {},
   "outputs": [
    {
     "data": {
      "text/plain": [
       "array([0.02288631, 0.08773785, 1.73737583])"
      ]
     },
     "execution_count": 10,
     "metadata": {},
     "output_type": "execute_result"
    }
   ],
   "source": [
    "eval"
   ]
  },
  {
   "cell_type": "code",
   "execution_count": 11,
   "id": "548c74f8-cb32-40c7-92cb-ff40ca4997b2",
   "metadata": {},
   "outputs": [
    {
     "data": {
      "text/plain": [
       "array([[-0.49092761,  0.48383043, -0.72449859],\n",
       "       [ 0.52957044, -0.494604  , -0.68914587],\n",
       "       [ 0.69176964,  0.72199377,  0.01340753]])"
      ]
     },
     "execution_count": 11,
     "metadata": {},
     "output_type": "execute_result"
    }
   ],
   "source": [
    "evec"
   ]
  },
  {
   "cell_type": "code",
   "execution_count": 14,
   "id": "2cce34be-933d-45b4-bdc3-e0a75903f80a",
   "metadata": {},
   "outputs": [
    {
     "data": {
      "text/plain": [
       "array([2, 1, 0])"
      ]
     },
     "execution_count": 14,
     "metadata": {},
     "output_type": "execute_result"
    }
   ],
   "source": [
    "sorted_eval_idx = np.argsort(eval)[::-1]\n",
    "sorted_eval_idx"
   ]
  },
  {
   "cell_type": "code",
   "execution_count": 19,
   "id": "bfb158e2-9e8f-4c2a-afa9-78b553baa2e6",
   "metadata": {},
   "outputs": [
    {
     "data": {
      "text/plain": [
       "array([[-0.72449859,  0.48383043, -0.49092761],\n",
       "       [-0.68914587, -0.494604  ,  0.52957044],\n",
       "       [ 0.01340753,  0.72199377,  0.69176964]])"
      ]
     },
     "execution_count": 19,
     "metadata": {},
     "output_type": "execute_result"
    }
   ],
   "source": [
    "sorted_evec = evec[:,sorted_eval_idx]\n",
    "sorted_evec"
   ]
  },
  {
   "cell_type": "code",
   "execution_count": 27,
   "id": "dc9cae20-5eaa-4af7-a8bf-3373703972a3",
   "metadata": {},
   "outputs": [
    {
     "data": {
      "text/plain": [
       "array([[-0.72449859,  0.48383043],\n",
       "       [-0.68914587, -0.494604  ],\n",
       "       [ 0.01340753,  0.72199377]])"
      ]
     },
     "execution_count": 27,
     "metadata": {},
     "output_type": "execute_result"
    }
   ],
   "source": [
    "k=2\n",
    "pca = sorted_evec[:,:k]\n",
    "pca"
   ]
  },
  {
   "cell_type": "code",
   "execution_count": 29,
   "id": "74defcf3-7c1c-48cd-85c2-d5eb752141f3",
   "metadata": {},
   "outputs": [
    {
     "data": {
      "text/plain": [
       "array([[-0.44594605,  0.01346648],\n",
       "       [ 2.17862137,  0.10323055],\n",
       "       [-0.57451016, -0.45118403],\n",
       "       [ 0.12926379, -0.03351222],\n",
       "       [-1.28742896,  0.36799922]])"
      ]
     },
     "execution_count": 29,
     "metadata": {},
     "output_type": "execute_result"
    }
   ],
   "source": [
    "np.dot(data_centered,pca)"
   ]
  },
  {
   "cell_type": "code",
   "execution_count": null,
   "id": "41522e1a-8c2c-49b4-aa37-835621083c67",
   "metadata": {},
   "outputs": [],
   "source": []
  }
 ],
 "metadata": {
  "kernelspec": {
   "display_name": "Python 3 (ipykernel)",
   "language": "python",
   "name": "python3"
  },
  "language_info": {
   "codemirror_mode": {
    "name": "ipython",
    "version": 3
   },
   "file_extension": ".py",
   "mimetype": "text/x-python",
   "name": "python",
   "nbconvert_exporter": "python",
   "pygments_lexer": "ipython3",
   "version": "3.12.4"
  }
 },
 "nbformat": 4,
 "nbformat_minor": 5
}
